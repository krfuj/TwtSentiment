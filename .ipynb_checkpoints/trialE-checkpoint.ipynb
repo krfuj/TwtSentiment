{
 "cells": [
  {
   "cell_type": "code",
   "execution_count": null,
   "metadata": {
    "_cell_guid": "389c16f2-8de3-4af9-bcb1-5f8c73df4f1b",
    "_uuid": "52fb3955-d60d-4c23-b6c2-eeb143192873",
    "execution": {
     "iopub.execute_input": "2023-07-30T12:36:37.187770Z",
     "iopub.status.busy": "2023-07-30T12:36:37.187353Z",
     "iopub.status.idle": "2023-07-30T12:36:37.208035Z",
     "shell.execute_reply": "2023-07-30T12:36:37.206820Z",
     "shell.execute_reply.started": "2023-07-30T12:36:37.187738Z"
    },
    "jupyter": {
     "outputs_hidden": false
    }
   },
   "outputs": [],
   "source": [
    "import numpy as np # linear algebra\n",
    "import pandas as pd # data processing, CSV file I/O (e.g. pd.read_csv)\n",
    "\n",
    "# Input data files are available in the read-only \"../input/\" directory\n",
    "# For example, running this (by clicking run or pressing Shift+Enter) will list all files under the input directory\n",
    "\n",
    "import os\n",
    "for dirname, _, filenames in os.walk('/kaggle/input'):\n",
    "    for filename in filenames:\n",
    "        print(os.path.join(dirname, filename))\n",
    "\n",
    "# You can write up to 20GB to the current directory (/kaggle/working/) that gets preserved as output when you create a version using \"Save & Run All\" \n",
    "# You can also write temporary files to /kaggle/temp/, but they won't be saved outside of the current session"
   ]
  },
  {
   "cell_type": "markdown",
   "metadata": {
    "_cell_guid": "66a74348-fed1-4474-b0da-607ba2732943",
    "_uuid": "824032dd-bcd6-4ae4-8281-5d380e8271b1"
   },
   "source": [
    "# **Reading and pre-processing data**"
   ]
  },
  {
   "cell_type": "code",
   "execution_count": null,
   "metadata": {
    "_cell_guid": "0d3282e3-04ed-4b56-814d-a41a2fa8d2ba",
    "_uuid": "76679874-0adc-429d-b822-d2c478721be7",
    "execution": {
     "iopub.execute_input": "2023-07-30T12:36:37.211201Z",
     "iopub.status.busy": "2023-07-30T12:36:37.210648Z",
     "iopub.status.idle": "2023-07-30T12:36:37.216769Z",
     "shell.execute_reply": "2023-07-30T12:36:37.215408Z",
     "shell.execute_reply.started": "2023-07-30T12:36:37.211163Z"
    },
    "jupyter": {
     "outputs_hidden": false
    }
   },
   "outputs": [],
   "source": [
    "col_text = 'im getting on borderlands and i will murder you all ,'"
   ]
  },
  {
   "cell_type": "code",
   "execution_count": null,
   "metadata": {
    "_cell_guid": "eecbf4c1-d3e1-47a3-9b65-ac95249c6af1",
    "_uuid": "2f2a5398-e43f-4609-840f-f0a320376987",
    "execution": {
     "iopub.execute_input": "2023-07-30T12:36:37.219525Z",
     "iopub.status.busy": "2023-07-30T12:36:37.218299Z",
     "iopub.status.idle": "2023-07-30T12:36:37.456260Z",
     "shell.execute_reply": "2023-07-30T12:36:37.454954Z",
     "shell.execute_reply.started": "2023-07-30T12:36:37.219488Z"
    },
    "jupyter": {
     "outputs_hidden": false
    }
   },
   "outputs": [],
   "source": [
    "df_train = pd.read_csv(\"/kaggle/input/twitter-entity-sentiment-analysis/twitter_training.csv\")"
   ]
  },
  {
   "cell_type": "code",
   "execution_count": null,
   "metadata": {
    "_cell_guid": "75aae9a2-90a9-4db3-8cb4-6667b509e68a",
    "_uuid": "f928f8fb-ab61-482b-8632-b1858e30b998",
    "execution": {
     "iopub.execute_input": "2023-07-30T12:36:37.460078Z",
     "iopub.status.busy": "2023-07-30T12:36:37.459395Z",
     "iopub.status.idle": "2023-07-30T12:36:37.547162Z",
     "shell.execute_reply": "2023-07-30T12:36:37.546045Z",
     "shell.execute_reply.started": "2023-07-30T12:36:37.460014Z"
    },
    "jupyter": {
     "outputs_hidden": false
    }
   },
   "outputs": [],
   "source": [
    "df_train_POS = df_train[df_train[\"Positive\"] == \"Positive\"]\n",
    "df_train_NEG = df_train[df_train[\"Positive\"] == \"Negative\"]\n",
    "df_train_NEU = df_train[df_train[\"Positive\"] == \"Neutral\"]"
   ]
  },
  {
   "cell_type": "code",
   "execution_count": null,
   "metadata": {
    "_cell_guid": "a90853cf-915c-4e2f-ab14-88e5852aae13",
    "_uuid": "a686eecf-e75c-492d-b33f-737d574827a5",
    "execution": {
     "iopub.execute_input": "2023-07-30T12:36:37.549405Z",
     "iopub.status.busy": "2023-07-30T12:36:37.548985Z",
     "iopub.status.idle": "2023-07-30T12:36:37.566885Z",
     "shell.execute_reply": "2023-07-30T12:36:37.565060Z",
     "shell.execute_reply.started": "2023-07-30T12:36:37.549368Z"
    },
    "jupyter": {
     "outputs_hidden": false
    }
   },
   "outputs": [],
   "source": [
    "df_train_POS"
   ]
  },
  {
   "cell_type": "code",
   "execution_count": null,
   "metadata": {
    "_cell_guid": "84826880-1fbc-4921-8988-29a79a5eb727",
    "_uuid": "0f5a8e0b-b38e-4124-b4ff-08fa94bd5358",
    "execution": {
     "iopub.execute_input": "2023-07-30T12:36:37.568833Z",
     "iopub.status.busy": "2023-07-30T12:36:37.568495Z",
     "iopub.status.idle": "2023-07-30T12:36:37.587029Z",
     "shell.execute_reply": "2023-07-30T12:36:37.585832Z",
     "shell.execute_reply.started": "2023-07-30T12:36:37.568804Z"
    },
    "jupyter": {
     "outputs_hidden": false
    }
   },
   "outputs": [],
   "source": [
    "df_train_NEG"
   ]
  },
  {
   "cell_type": "code",
   "execution_count": null,
   "metadata": {
    "_cell_guid": "3705ba32-73b2-4ef9-b3fb-a5813ff01c5c",
    "_uuid": "649c67e3-9409-417e-bd3d-4e9bbdaeab3b",
    "execution": {
     "iopub.execute_input": "2023-07-30T12:36:37.593635Z",
     "iopub.status.busy": "2023-07-30T12:36:37.588714Z",
     "iopub.status.idle": "2023-07-30T12:36:37.615666Z",
     "shell.execute_reply": "2023-07-30T12:36:37.614520Z",
     "shell.execute_reply.started": "2023-07-30T12:36:37.593594Z"
    },
    "jupyter": {
     "outputs_hidden": false
    }
   },
   "outputs": [],
   "source": [
    "df_train_NEU"
   ]
  },
  {
   "cell_type": "code",
   "execution_count": null,
   "metadata": {
    "_cell_guid": "28b2a331-0261-47cc-896c-7eee5921a2cb",
    "_uuid": "be0297d7-1126-4910-8e13-2427c016face",
    "execution": {
     "iopub.execute_input": "2023-07-30T12:36:37.618508Z",
     "iopub.status.busy": "2023-07-30T12:36:37.617654Z",
     "iopub.status.idle": "2023-07-30T12:36:37.634457Z",
     "shell.execute_reply": "2023-07-30T12:36:37.633257Z",
     "shell.execute_reply.started": "2023-07-30T12:36:37.618465Z"
    },
    "jupyter": {
     "outputs_hidden": false
    }
   },
   "outputs": [],
   "source": [
    "df_train_POS = df_train_POS.sample(15000)\n",
    "df_train_NEG = df_train_NEG.sample(15000)\n",
    "df_train_NEU = df_train_NEU.sample(15000)"
   ]
  },
  {
   "cell_type": "code",
   "execution_count": null,
   "metadata": {
    "_cell_guid": "ce731df2-bd3f-46e0-9570-9e8e13c4e968",
    "_uuid": "2515f09c-b3f4-48b4-a2bc-7e4bff5a230f",
    "execution": {
     "iopub.execute_input": "2023-07-30T12:36:37.639253Z",
     "iopub.status.busy": "2023-07-30T12:36:37.637848Z",
     "iopub.status.idle": "2023-07-30T12:36:37.644191Z",
     "shell.execute_reply": "2023-07-30T12:36:37.642974Z",
     "shell.execute_reply.started": "2023-07-30T12:36:37.639202Z"
    },
    "jupyter": {
     "outputs_hidden": false
    }
   },
   "outputs": [],
   "source": [
    "# df_train_POS = df_train_POS[\"Positive\"]\n",
    "# df_train_NEG = df_train_NEG[\"Positive\"]\n",
    "# df_train_NEU = df_train_NEU[\"Positive\"]"
   ]
  },
  {
   "cell_type": "code",
   "execution_count": null,
   "metadata": {
    "_cell_guid": "b56fcd03-1e66-4306-84f6-ad12473428e7",
    "_uuid": "48ed8e20-2acf-400f-b0c7-4d1c257f9cad",
    "execution": {
     "iopub.execute_input": "2023-07-30T12:36:37.650118Z",
     "iopub.status.busy": "2023-07-30T12:36:37.649769Z",
     "iopub.status.idle": "2023-07-30T12:36:37.658189Z",
     "shell.execute_reply": "2023-07-30T12:36:37.657055Z",
     "shell.execute_reply.started": "2023-07-30T12:36:37.650071Z"
    },
    "jupyter": {
     "outputs_hidden": false
    }
   },
   "outputs": [],
   "source": [
    "df_train_POS.shape, df_train_NEG.shape, df_train_NEU.shape"
   ]
  },
  {
   "cell_type": "code",
   "execution_count": null,
   "metadata": {
    "_cell_guid": "6cdc68f7-1f6b-44b9-9660-78360b4e0600",
    "_uuid": "46eb8790-ecff-4971-9f8f-33c254b9762c",
    "execution": {
     "iopub.execute_input": "2023-07-30T12:36:37.660205Z",
     "iopub.status.busy": "2023-07-30T12:36:37.659833Z",
     "iopub.status.idle": "2023-07-30T12:36:37.670293Z",
     "shell.execute_reply": "2023-07-30T12:36:37.669223Z",
     "shell.execute_reply.started": "2023-07-30T12:36:37.660177Z"
    },
    "jupyter": {
     "outputs_hidden": false
    }
   },
   "outputs": [],
   "source": [
    "from sklearn.model_selection import train_test_split"
   ]
  },
  {
   "cell_type": "code",
   "execution_count": null,
   "metadata": {
    "_cell_guid": "2c5c5b05-8a1d-4a40-8cd2-aab20c704fe4",
    "_uuid": "94bd46d5-37dc-4cba-98ce-9350b63232cb",
    "execution": {
     "iopub.execute_input": "2023-07-30T12:36:37.672202Z",
     "iopub.status.busy": "2023-07-30T12:36:37.671679Z",
     "iopub.status.idle": "2023-07-30T12:36:37.682846Z",
     "shell.execute_reply": "2023-07-30T12:36:37.681806Z",
     "shell.execute_reply.started": "2023-07-30T12:36:37.672164Z"
    },
    "jupyter": {
     "outputs_hidden": false
    }
   },
   "outputs": [],
   "source": [
    "# df_train_NEU_1, df_train_NEU_2 = train_test_split(df_train_NEU, test_size=0.5)"
   ]
  },
  {
   "cell_type": "code",
   "execution_count": null,
   "metadata": {
    "_cell_guid": "7014da67-a76d-4878-b0e4-c53af3b7a5dd",
    "_uuid": "4a82ebac-befe-435c-b7ea-80e6ef8a0e61",
    "execution": {
     "iopub.execute_input": "2023-07-30T12:36:37.685020Z",
     "iopub.status.busy": "2023-07-30T12:36:37.684441Z",
     "iopub.status.idle": "2023-07-30T12:36:37.694366Z",
     "shell.execute_reply": "2023-07-30T12:36:37.693336Z",
     "shell.execute_reply.started": "2023-07-30T12:36:37.684964Z"
    },
    "jupyter": {
     "outputs_hidden": false
    }
   },
   "outputs": [],
   "source": [
    "# df_train_NEU_1.shape, df_train_NEU_2.shape"
   ]
  },
  {
   "cell_type": "markdown",
   "metadata": {
    "_cell_guid": "02c44f14-3875-4490-960e-ad1c7cb52ba2",
    "_uuid": "9f23553f-8ad0-421c-be43-2d83dd1c327a"
   },
   "source": [
    "> # Positive"
   ]
  },
  {
   "cell_type": "code",
   "execution_count": null,
   "metadata": {
    "_cell_guid": "ea5ff03c-751f-4180-98fc-6e79917523ed",
    "_uuid": "ec101ff7-a3af-4d52-9eae-89eaf74214a9",
    "execution": {
     "iopub.execute_input": "2023-07-30T12:36:37.695935Z",
     "iopub.status.busy": "2023-07-30T12:36:37.695650Z",
     "iopub.status.idle": "2023-07-30T12:36:37.707602Z",
     "shell.execute_reply": "2023-07-30T12:36:37.706354Z",
     "shell.execute_reply.started": "2023-07-30T12:36:37.695910Z"
    },
    "jupyter": {
     "outputs_hidden": false
    }
   },
   "outputs": [],
   "source": [
    "df_train_POS_text = np.array(df_train_POS[col_text])\n",
    "df_train_POS_target = np.array(df_train_POS[\"Positive\"])"
   ]
  },
  {
   "cell_type": "code",
   "execution_count": null,
   "metadata": {
    "_cell_guid": "d94cfba7-66fc-4970-bc87-975b8ab23916",
    "_uuid": "21972889-4f8e-40d7-a839-950e4c2efa3b",
    "execution": {
     "iopub.execute_input": "2023-07-30T12:36:37.709316Z",
     "iopub.status.busy": "2023-07-30T12:36:37.708954Z",
     "iopub.status.idle": "2023-07-30T12:36:37.722281Z",
     "shell.execute_reply": "2023-07-30T12:36:37.721038Z",
     "shell.execute_reply.started": "2023-07-30T12:36:37.709268Z"
    },
    "jupyter": {
     "outputs_hidden": false
    }
   },
   "outputs": [],
   "source": [
    "df_train_POS_text[0]"
   ]
  },
  {
   "cell_type": "markdown",
   "metadata": {
    "_cell_guid": "4f346e7f-9bae-47c6-be49-1438862d80fa",
    "_uuid": "1eaf8d85-1de8-4452-8b00-adbfbac415f6"
   },
   "source": [
    "> # Negative"
   ]
  },
  {
   "cell_type": "code",
   "execution_count": null,
   "metadata": {
    "_cell_guid": "f5d15c2a-b3dc-4bb6-9689-896b61652920",
    "_uuid": "b6bd5df3-c6ae-4f7d-871e-d7a27a73cfd0",
    "execution": {
     "iopub.execute_input": "2023-07-30T12:36:37.724729Z",
     "iopub.status.busy": "2023-07-30T12:36:37.724282Z",
     "iopub.status.idle": "2023-07-30T12:36:37.740344Z",
     "shell.execute_reply": "2023-07-30T12:36:37.739063Z",
     "shell.execute_reply.started": "2023-07-30T12:36:37.724692Z"
    },
    "jupyter": {
     "outputs_hidden": false
    }
   },
   "outputs": [],
   "source": [
    "df_train_NEG_text = np.array(df_train_NEG[col_text])\n",
    "df_train_NEG_target = np.array(df_train_NEG[\"Positive\"])"
   ]
  },
  {
   "cell_type": "code",
   "execution_count": null,
   "metadata": {
    "_cell_guid": "09a147b1-0aca-4f45-8deb-69862af590e4",
    "_uuid": "0c2340b4-6344-4eee-afba-7058b11c6cf8",
    "execution": {
     "iopub.execute_input": "2023-07-30T12:36:37.745843Z",
     "iopub.status.busy": "2023-07-30T12:36:37.745437Z",
     "iopub.status.idle": "2023-07-30T12:36:37.758482Z",
     "shell.execute_reply": "2023-07-30T12:36:37.757205Z",
     "shell.execute_reply.started": "2023-07-30T12:36:37.745804Z"
    },
    "jupyter": {
     "outputs_hidden": false
    }
   },
   "outputs": [],
   "source": [
    "df_train_NEG_text[0]"
   ]
  },
  {
   "cell_type": "markdown",
   "metadata": {
    "_cell_guid": "f72d96d1-d4cc-4eac-8f1a-2484aafc302c",
    "_uuid": "2abe957e-fac0-4db6-ad99-b91c4a585fc0"
   },
   "source": [
    "> # Neutral 1 and 2"
   ]
  },
  {
   "cell_type": "code",
   "execution_count": null,
   "metadata": {
    "_cell_guid": "ee1cff30-2bbf-47dc-8880-69b280d9ab8b",
    "_uuid": "18ccc599-0c98-42f3-a9ce-66a93a380b3d",
    "execution": {
     "iopub.execute_input": "2023-07-30T12:36:37.763062Z",
     "iopub.status.busy": "2023-07-30T12:36:37.760708Z",
     "iopub.status.idle": "2023-07-30T12:36:37.772531Z",
     "shell.execute_reply": "2023-07-30T12:36:37.771124Z",
     "shell.execute_reply.started": "2023-07-30T12:36:37.763024Z"
    },
    "jupyter": {
     "outputs_hidden": false
    }
   },
   "outputs": [],
   "source": [
    "import random"
   ]
  },
  {
   "cell_type": "code",
   "execution_count": null,
   "metadata": {
    "_cell_guid": "f5798cce-c747-4e05-b687-bbd3bb9b2af5",
    "_uuid": "ec32e095-65c6-4353-99c5-66d88375183d",
    "execution": {
     "iopub.execute_input": "2023-07-30T12:36:37.775421Z",
     "iopub.status.busy": "2023-07-30T12:36:37.774271Z",
     "iopub.status.idle": "2023-07-30T12:36:37.782584Z",
     "shell.execute_reply": "2023-07-30T12:36:37.781206Z",
     "shell.execute_reply.started": "2023-07-30T12:36:37.775384Z"
    },
    "jupyter": {
     "outputs_hidden": false
    }
   },
   "outputs": [],
   "source": [
    "# df_train_NEU_1_text = np.array(df_train_NEU_1[col_text])\n",
    "# df_train_NEU_1_target = np.array(df_train_NEU_1[\"Positive\"])\n",
    "# df_train_NEU_2_text = np.array(df_train_NEU_2[col_text])\n",
    "# df_train_NEU_2_target = np.array(df_train_NEU_2[\"Positive\"])"
   ]
  },
  {
   "cell_type": "code",
   "execution_count": null,
   "metadata": {
    "execution": {
     "iopub.execute_input": "2023-07-30T12:36:37.785555Z",
     "iopub.status.busy": "2023-07-30T12:36:37.784613Z",
     "iopub.status.idle": "2023-07-30T12:36:37.798934Z",
     "shell.execute_reply": "2023-07-30T12:36:37.797392Z",
     "shell.execute_reply.started": "2023-07-30T12:36:37.785518Z"
    }
   },
   "outputs": [],
   "source": [
    "df_train_NEU_text = np.array(df_train_NEU[col_text])\n",
    "df_train_NEU_target = np.array(df_train_NEU[\"Positive\"])"
   ]
  },
  {
   "cell_type": "code",
   "execution_count": null,
   "metadata": {
    "_cell_guid": "909c711b-c298-4857-9629-0d8710c12945",
    "_uuid": "b6ac72b1-1410-4e4b-8fe3-b1f8d443038d",
    "execution": {
     "iopub.execute_input": "2023-07-30T12:36:37.801318Z",
     "iopub.status.busy": "2023-07-30T12:36:37.800781Z",
     "iopub.status.idle": "2023-07-30T12:36:37.811250Z",
     "shell.execute_reply": "2023-07-30T12:36:37.809971Z",
     "shell.execute_reply.started": "2023-07-30T12:36:37.801281Z"
    },
    "jupyter": {
     "outputs_hidden": false
    }
   },
   "outputs": [],
   "source": [
    "df_train_POS_text_new = []"
   ]
  },
  {
   "cell_type": "code",
   "execution_count": null,
   "metadata": {
    "_cell_guid": "3160959e-723a-4c52-bd2e-79fd89e97bcd",
    "_uuid": "2c504704-a834-44a8-b427-26962346ab11",
    "execution": {
     "iopub.execute_input": "2023-07-30T12:36:37.813198Z",
     "iopub.status.busy": "2023-07-30T12:36:37.812854Z",
     "iopub.status.idle": "2023-07-30T12:36:37.871014Z",
     "shell.execute_reply": "2023-07-30T12:36:37.869979Z",
     "shell.execute_reply.started": "2023-07-30T12:36:37.813172Z"
    },
    "jupyter": {
     "outputs_hidden": false
    }
   },
   "outputs": [],
   "source": [
    "for x, y in zip(df_train_POS_text, df_train_NEU_text):\n",
    "#     df_train_POS_text[i] = str(df_train_POS_text[i]) + \" \".join(str(k) for k in df_train_NEU_1_text[i])\n",
    "    rand_int = random.randint(0,1)\n",
    "    if rand_int == 0:\n",
    "        df_train_POS_text_new.append(f\"{x} {y}\")\n",
    "    else:\n",
    "        df_train_POS_text_new.append(f\"{y} {x}\")"
   ]
  },
  {
   "cell_type": "code",
   "execution_count": null,
   "metadata": {
    "_cell_guid": "c92b3700-11f2-43ca-a8e0-2a990c92b63c",
    "_uuid": "7e216ebc-3827-4626-a4d5-4935269c22d4",
    "execution": {
     "iopub.execute_input": "2023-07-30T12:36:37.873723Z",
     "iopub.status.busy": "2023-07-30T12:36:37.872791Z",
     "iopub.status.idle": "2023-07-30T12:36:37.908928Z",
     "shell.execute_reply": "2023-07-30T12:36:37.907802Z",
     "shell.execute_reply.started": "2023-07-30T12:36:37.873693Z"
    },
    "jupyter": {
     "outputs_hidden": false
    }
   },
   "outputs": [],
   "source": [
    "df_train_POS_text_new = np.array(df_train_POS_text_new)"
   ]
  },
  {
   "cell_type": "code",
   "execution_count": null,
   "metadata": {
    "_cell_guid": "f195ca01-6211-4f4c-b1b4-180d43a2980b",
    "_uuid": "fcf3aea8-3873-461f-809b-e9176dde6f75",
    "execution": {
     "iopub.execute_input": "2023-07-30T12:36:37.911796Z",
     "iopub.status.busy": "2023-07-30T12:36:37.910785Z",
     "iopub.status.idle": "2023-07-30T12:36:37.919232Z",
     "shell.execute_reply": "2023-07-30T12:36:37.917952Z",
     "shell.execute_reply.started": "2023-07-30T12:36:37.911766Z"
    },
    "jupyter": {
     "outputs_hidden": false
    }
   },
   "outputs": [],
   "source": [
    "df_train_POS_text_new[0]"
   ]
  },
  {
   "cell_type": "code",
   "execution_count": null,
   "metadata": {
    "_cell_guid": "ac261b0e-92e2-42b4-8bcc-b78a513f8764",
    "_uuid": "cb317b60-fbb7-4462-8560-ea8f18dc4dfe",
    "execution": {
     "iopub.execute_input": "2023-07-30T12:36:37.922021Z",
     "iopub.status.busy": "2023-07-30T12:36:37.921361Z",
     "iopub.status.idle": "2023-07-30T12:36:37.932099Z",
     "shell.execute_reply": "2023-07-30T12:36:37.931140Z",
     "shell.execute_reply.started": "2023-07-30T12:36:37.921960Z"
    },
    "jupyter": {
     "outputs_hidden": false
    }
   },
   "outputs": [],
   "source": [
    "df_train_POS_text[0]"
   ]
  },
  {
   "cell_type": "code",
   "execution_count": null,
   "metadata": {
    "_cell_guid": "bf6c6ec1-88a5-414b-87ec-940b82742411",
    "_uuid": "f27eb942-c359-4ba4-9e44-f1b60b55ffe6",
    "execution": {
     "iopub.execute_input": "2023-07-30T12:36:37.934330Z",
     "iopub.status.busy": "2023-07-30T12:36:37.933415Z",
     "iopub.status.idle": "2023-07-30T12:36:37.965812Z",
     "shell.execute_reply": "2023-07-30T12:36:37.964527Z",
     "shell.execute_reply.started": "2023-07-30T12:36:37.934294Z"
    },
    "jupyter": {
     "outputs_hidden": false
    }
   },
   "outputs": [],
   "source": [
    "df_train_POS = np.array([df_train_POS_text_new,df_train_POS_target])\n",
    "df_train_POS.shape"
   ]
  },
  {
   "cell_type": "code",
   "execution_count": null,
   "metadata": {
    "_cell_guid": "4fb947ba-f991-47b9-9747-b34e74850db3",
    "_uuid": "99bdcd78-8f87-4d1a-a591-1fd5a4e988ec",
    "jupyter": {
     "outputs_hidden": false
    }
   },
   "outputs": [],
   "source": []
  },
  {
   "cell_type": "code",
   "execution_count": null,
   "metadata": {
    "_cell_guid": "038837dd-10dd-43e7-9808-fdb55164ba6a",
    "_uuid": "1f96052f-3fbf-429f-a641-64787ff0c7b3",
    "execution": {
     "iopub.execute_input": "2023-07-30T12:36:37.968063Z",
     "iopub.status.busy": "2023-07-30T12:36:37.967542Z",
     "iopub.status.idle": "2023-07-30T12:36:37.973633Z",
     "shell.execute_reply": "2023-07-30T12:36:37.972433Z",
     "shell.execute_reply.started": "2023-07-30T12:36:37.968025Z"
    },
    "jupyter": {
     "outputs_hidden": false
    }
   },
   "outputs": [],
   "source": [
    "df_train_NEG_text_new = []"
   ]
  },
  {
   "cell_type": "code",
   "execution_count": null,
   "metadata": {
    "_cell_guid": "532e3eb3-c30d-40ff-8f2c-c50fe100b492",
    "_uuid": "a670a794-ce9e-42a7-9c20-fe22973344b6",
    "execution": {
     "iopub.execute_input": "2023-07-30T12:36:37.985628Z",
     "iopub.status.busy": "2023-07-30T12:36:37.985262Z",
     "iopub.status.idle": "2023-07-30T12:36:38.041116Z",
     "shell.execute_reply": "2023-07-30T12:36:38.040048Z",
     "shell.execute_reply.started": "2023-07-30T12:36:37.985591Z"
    },
    "jupyter": {
     "outputs_hidden": false
    }
   },
   "outputs": [],
   "source": [
    "for x,y in zip(df_train_NEG_text,df_train_NEU_text):\n",
    "#     df_train_POS_text[i] = str(df_train_POS_text[i]) + \" \".join(str(k) for k in df_train_NEU_1_text[i])\n",
    "    randow_int = random.randint(0,1)\n",
    "    if randow_int == 0:\n",
    "        df_train_NEG_text_new.append(f\"{x} {y}\")\n",
    "    else:\n",
    "        df_train_NEG_text_new.append(f\"{y} {x}\")"
   ]
  },
  {
   "cell_type": "code",
   "execution_count": null,
   "metadata": {
    "_cell_guid": "75bba1be-9459-44d9-9b04-2399640459a4",
    "_uuid": "a7f79fe9-602d-4fe6-8b3d-d3fe2036af32",
    "execution": {
     "iopub.execute_input": "2023-07-30T12:36:38.043470Z",
     "iopub.status.busy": "2023-07-30T12:36:38.042518Z",
     "iopub.status.idle": "2023-07-30T12:36:38.079720Z",
     "shell.execute_reply": "2023-07-30T12:36:38.078531Z",
     "shell.execute_reply.started": "2023-07-30T12:36:38.043429Z"
    },
    "jupyter": {
     "outputs_hidden": false
    }
   },
   "outputs": [],
   "source": [
    "df_train_NEG_text_new = np.array(df_train_NEG_text_new)"
   ]
  },
  {
   "cell_type": "code",
   "execution_count": null,
   "metadata": {
    "_cell_guid": "c087cff4-1487-4b5f-906a-04388578336b",
    "_uuid": "8b54134b-5eec-4100-87db-2ff84fa6fbb7",
    "execution": {
     "iopub.execute_input": "2023-07-30T12:36:38.081804Z",
     "iopub.status.busy": "2023-07-30T12:36:38.081319Z",
     "iopub.status.idle": "2023-07-30T12:36:38.086678Z",
     "shell.execute_reply": "2023-07-30T12:36:38.085440Z",
     "shell.execute_reply.started": "2023-07-30T12:36:38.081766Z"
    },
    "jupyter": {
     "outputs_hidden": false
    }
   },
   "outputs": [],
   "source": [
    "# df_train_NEG_text_new"
   ]
  },
  {
   "cell_type": "code",
   "execution_count": null,
   "metadata": {
    "_cell_guid": "dbf0d132-5c9e-4ee9-b0c1-f36d5efb30f0",
    "_uuid": "0b4a9581-ffcd-44a3-a324-68c6cafd94d6",
    "execution": {
     "iopub.execute_input": "2023-07-30T12:36:38.089570Z",
     "iopub.status.busy": "2023-07-30T12:36:38.088599Z",
     "iopub.status.idle": "2023-07-30T12:36:38.102155Z",
     "shell.execute_reply": "2023-07-30T12:36:38.101065Z",
     "shell.execute_reply.started": "2023-07-30T12:36:38.089514Z"
    },
    "jupyter": {
     "outputs_hidden": false
    }
   },
   "outputs": [],
   "source": [
    "df_train_NEG = np.array([df_train_NEG_text, df_train_NEG_target])\n",
    "df_train_NEG.shape"
   ]
  },
  {
   "cell_type": "code",
   "execution_count": null,
   "metadata": {
    "_cell_guid": "84547d94-dbfa-47d7-af56-d227cc70a5b9",
    "_uuid": "0fc6a27c-07d8-47ff-b2f3-81fcb20ffa14",
    "execution": {
     "iopub.execute_input": "2023-07-30T12:36:38.104394Z",
     "iopub.status.busy": "2023-07-30T12:36:38.103954Z",
     "iopub.status.idle": "2023-07-30T12:36:38.112435Z",
     "shell.execute_reply": "2023-07-30T12:36:38.111250Z",
     "shell.execute_reply.started": "2023-07-30T12:36:38.104358Z"
    },
    "jupyter": {
     "outputs_hidden": false
    }
   },
   "outputs": [],
   "source": [
    "# df_train_NEU_text = np.concatenate([df_train_NEU_1_text,df_train_NEU_2_text])\n",
    "# df_train_NEU_target = np.concatenate([df_train_NEU_1_target,df_train_NEU_2_target])"
   ]
  },
  {
   "cell_type": "code",
   "execution_count": null,
   "metadata": {
    "_cell_guid": "4b28da47-b708-4e28-b3ff-4bbd2c2b76e5",
    "_uuid": "0606fb43-a2cc-4c8f-93b4-6615a77c0476",
    "execution": {
     "iopub.execute_input": "2023-07-30T12:36:38.116312Z",
     "iopub.status.busy": "2023-07-30T12:36:38.115913Z",
     "iopub.status.idle": "2023-07-30T12:36:38.127358Z",
     "shell.execute_reply": "2023-07-30T12:36:38.126018Z",
     "shell.execute_reply.started": "2023-07-30T12:36:38.116261Z"
    },
    "jupyter": {
     "outputs_hidden": false
    }
   },
   "outputs": [],
   "source": [
    "df_train_NEU_text.shape, df_train_NEU_target"
   ]
  },
  {
   "cell_type": "code",
   "execution_count": null,
   "metadata": {
    "_cell_guid": "75c5517e-de58-4b3a-b9d1-cb49ebf96f6b",
    "_uuid": "7fa999b2-e51e-41d3-aff7-a87810524aeb",
    "execution": {
     "iopub.execute_input": "2023-07-30T12:36:38.129976Z",
     "iopub.status.busy": "2023-07-30T12:36:38.129283Z",
     "iopub.status.idle": "2023-07-30T12:36:38.140651Z",
     "shell.execute_reply": "2023-07-30T12:36:38.139508Z",
     "shell.execute_reply.started": "2023-07-30T12:36:38.129941Z"
    },
    "jupyter": {
     "outputs_hidden": false
    }
   },
   "outputs": [],
   "source": [
    "df_train_NEU = np.array([df_train_NEU_text,df_train_NEU_target])\n",
    "df_train_NEU.shape"
   ]
  },
  {
   "cell_type": "code",
   "execution_count": null,
   "metadata": {
    "execution": {
     "iopub.execute_input": "2023-07-30T12:36:38.143341Z",
     "iopub.status.busy": "2023-07-30T12:36:38.142849Z",
     "iopub.status.idle": "2023-07-30T12:36:38.148821Z",
     "shell.execute_reply": "2023-07-30T12:36:38.147518Z",
     "shell.execute_reply.started": "2023-07-30T12:36:38.143305Z"
    }
   },
   "outputs": [],
   "source": [
    "df_train_POS_target_new = df_train_POS_target\n",
    "df_train_NEG_target_new = df_train_NEG_target"
   ]
  },
  {
   "cell_type": "code",
   "execution_count": null,
   "metadata": {
    "_cell_guid": "b08aac56-a055-4511-abdb-8c8d022b09ef",
    "_uuid": "c7336902-7c4b-40d6-acdf-f885257af7de",
    "execution": {
     "iopub.execute_input": "2023-07-30T12:36:38.151435Z",
     "iopub.status.busy": "2023-07-30T12:36:38.150732Z",
     "iopub.status.idle": "2023-07-30T12:36:38.205625Z",
     "shell.execute_reply": "2023-07-30T12:36:38.204367Z",
     "shell.execute_reply.started": "2023-07-30T12:36:38.151406Z"
    },
    "jupyter": {
     "outputs_hidden": false
    }
   },
   "outputs": [],
   "source": [
    "df_train_text = np.concatenate([df_train_POS_text_new, df_train_NEG_text_new, df_train_NEU_text])\n",
    "df_train_target = np.concatenate([df_train_POS_target_new,df_train_NEG_target_new, df_train_NEU_target])\n",
    "\n",
    "df_train_text.shape,df_train_target.shape"
   ]
  },
  {
   "cell_type": "code",
   "execution_count": null,
   "metadata": {
    "_cell_guid": "a9a3b17d-5621-4d1d-8f4a-b62fd011261a",
    "_uuid": "880da3b7-580b-47a1-90c9-322fe2eb7c70",
    "execution": {
     "iopub.execute_input": "2023-07-30T12:36:38.207922Z",
     "iopub.status.busy": "2023-07-30T12:36:38.207194Z",
     "iopub.status.idle": "2023-07-30T12:36:38.221801Z",
     "shell.execute_reply": "2023-07-30T12:36:38.220565Z",
     "shell.execute_reply.started": "2023-07-30T12:36:38.207881Z"
    },
    "jupyter": {
     "outputs_hidden": false
    }
   },
   "outputs": [],
   "source": [
    "df_train_new = np.array([df_train_text,df_train_target])\n",
    "df_train_new.shape"
   ]
  },
  {
   "cell_type": "markdown",
   "metadata": {
    "_cell_guid": "6939e28a-4a93-49d5-ab3d-c24a3c3e30b9",
    "_uuid": "a835a4ca-19eb-49d0-bb4f-313bdde5b76b"
   },
   "source": [
    "# **Transfer to one hot vector**"
   ]
  },
  {
   "cell_type": "code",
   "execution_count": null,
   "metadata": {
    "_cell_guid": "4f87633e-77e5-41a0-9d06-f7df2c3fc32d",
    "_uuid": "182849f9-2fb1-47cf-aff4-c86a6733bae0",
    "execution": {
     "iopub.execute_input": "2023-07-30T12:36:38.224332Z",
     "iopub.status.busy": "2023-07-30T12:36:38.223847Z",
     "iopub.status.idle": "2023-07-30T12:36:38.236283Z",
     "shell.execute_reply": "2023-07-30T12:36:38.235010Z",
     "shell.execute_reply.started": "2023-07-30T12:36:38.224293Z"
    },
    "jupyter": {
     "outputs_hidden": false
    }
   },
   "outputs": [],
   "source": [
    "df_train_target"
   ]
  },
  {
   "cell_type": "code",
   "execution_count": null,
   "metadata": {
    "_cell_guid": "812c17bb-ef15-4561-ac29-1ba659d58d0f",
    "_uuid": "ceb325eb-7caf-4e0e-bf35-096fcf897120",
    "execution": {
     "iopub.execute_input": "2023-07-30T12:36:38.238574Z",
     "iopub.status.busy": "2023-07-30T12:36:38.238065Z",
     "iopub.status.idle": "2023-07-30T12:36:38.248919Z",
     "shell.execute_reply": "2023-07-30T12:36:38.247818Z",
     "shell.execute_reply.started": "2023-07-30T12:36:38.238537Z"
    },
    "jupyter": {
     "outputs_hidden": false
    }
   },
   "outputs": [],
   "source": [
    "from sklearn.preprocessing import OneHotEncoder"
   ]
  },
  {
   "cell_type": "code",
   "execution_count": null,
   "metadata": {
    "_cell_guid": "802e7c33-a2ef-4627-a696-8d9c71221051",
    "_uuid": "e157a522-f4cb-47f5-8b2c-caf7753adc47",
    "execution": {
     "iopub.execute_input": "2023-07-30T12:36:38.251338Z",
     "iopub.status.busy": "2023-07-30T12:36:38.250817Z",
     "iopub.status.idle": "2023-07-30T12:36:38.260665Z",
     "shell.execute_reply": "2023-07-30T12:36:38.259353Z",
     "shell.execute_reply.started": "2023-07-30T12:36:38.251299Z"
    },
    "jupyter": {
     "outputs_hidden": false
    }
   },
   "outputs": [],
   "source": [
    "encoder = OneHotEncoder()"
   ]
  },
  {
   "cell_type": "code",
   "execution_count": null,
   "metadata": {
    "_cell_guid": "eb72ef12-61c2-4246-aa4d-a633e7e6f3ea",
    "_uuid": "1de6aa0e-614f-4240-8cc6-454c8d738e93",
    "execution": {
     "iopub.execute_input": "2023-07-30T12:36:38.262298Z",
     "iopub.status.busy": "2023-07-30T12:36:38.261955Z",
     "iopub.status.idle": "2023-07-30T12:36:38.273509Z",
     "shell.execute_reply": "2023-07-30T12:36:38.272216Z",
     "shell.execute_reply.started": "2023-07-30T12:36:38.262271Z"
    },
    "jupyter": {
     "outputs_hidden": false
    }
   },
   "outputs": [],
   "source": [
    "df_train_target_reshaped = df_train_target.reshape(-1, 1)"
   ]
  },
  {
   "cell_type": "code",
   "execution_count": null,
   "metadata": {
    "_cell_guid": "15e59534-ddd6-463f-952b-9e45330d1ed1",
    "_uuid": "8f8ea0d7-545b-41f7-89be-50ad13e9c5df",
    "execution": {
     "iopub.execute_input": "2023-07-30T12:36:38.276262Z",
     "iopub.status.busy": "2023-07-30T12:36:38.274854Z",
     "iopub.status.idle": "2023-07-30T12:36:38.308460Z",
     "shell.execute_reply": "2023-07-30T12:36:38.307074Z",
     "shell.execute_reply.started": "2023-07-30T12:36:38.276223Z"
    },
    "jupyter": {
     "outputs_hidden": false
    }
   },
   "outputs": [],
   "source": [
    "onehot_encoded = encoder.fit_transform(df_train_target_reshaped)\n",
    "onehot_encoded_array = onehot_encoded.toarray().astype(int)\n",
    "onehot_encoded_array"
   ]
  },
  {
   "cell_type": "markdown",
   "metadata": {
    "_cell_guid": "be8a6dea-80ee-4f73-af1e-e4f00c33d86c",
    "_uuid": "249e346c-fc11-4ede-959f-df1819a25e2e"
   },
   "source": [
    "# **Split data to training set and testing set**"
   ]
  },
  {
   "cell_type": "code",
   "execution_count": null,
   "metadata": {
    "execution": {
     "iopub.execute_input": "2023-07-30T12:36:38.311250Z",
     "iopub.status.busy": "2023-07-30T12:36:38.310447Z",
     "iopub.status.idle": "2023-07-30T12:36:38.320345Z",
     "shell.execute_reply": "2023-07-30T12:36:38.319228Z",
     "shell.execute_reply.started": "2023-07-30T12:36:38.311207Z"
    }
   },
   "outputs": [],
   "source": [
    "df_train_text.shape"
   ]
  },
  {
   "cell_type": "code",
   "execution_count": null,
   "metadata": {
    "execution": {
     "iopub.execute_input": "2023-07-30T12:36:38.322838Z",
     "iopub.status.busy": "2023-07-30T12:36:38.322093Z",
     "iopub.status.idle": "2023-07-30T12:36:38.333676Z",
     "shell.execute_reply": "2023-07-30T12:36:38.332494Z",
     "shell.execute_reply.started": "2023-07-30T12:36:38.322797Z"
    }
   },
   "outputs": [],
   "source": [
    "onehot_encoded_array.shape"
   ]
  },
  {
   "cell_type": "code",
   "execution_count": null,
   "metadata": {
    "_cell_guid": "d5525427-56d5-4c97-bbba-295f6a660053",
    "_uuid": "4b717e0a-9940-4566-9d7b-d2de22984e30",
    "execution": {
     "iopub.execute_input": "2023-07-30T12:36:38.336547Z",
     "iopub.status.busy": "2023-07-30T12:36:38.335649Z",
     "iopub.status.idle": "2023-07-30T12:36:38.351287Z",
     "shell.execute_reply": "2023-07-30T12:36:38.350045Z",
     "shell.execute_reply.started": "2023-07-30T12:36:38.336504Z"
    },
    "jupyter": {
     "outputs_hidden": false
    }
   },
   "outputs": [],
   "source": [
    "X_train, X_test, y_train, y_test = train_test_split(df_train_text, onehot_encoded_array, test_size = 0.2)"
   ]
  },
  {
   "cell_type": "code",
   "execution_count": null,
   "metadata": {
    "_cell_guid": "18536297-b47d-42cb-a38f-7a6db63b3eaf",
    "_uuid": "ca4fe044-84b9-4ff0-b475-7fa63f6b4d89",
    "execution": {
     "iopub.execute_input": "2023-07-30T12:36:38.354043Z",
     "iopub.status.busy": "2023-07-30T12:36:38.353122Z",
     "iopub.status.idle": "2023-07-30T12:36:38.364258Z",
     "shell.execute_reply": "2023-07-30T12:36:38.363160Z",
     "shell.execute_reply.started": "2023-07-30T12:36:38.353986Z"
    },
    "jupyter": {
     "outputs_hidden": false
    }
   },
   "outputs": [],
   "source": [
    "X_train, X_test"
   ]
  },
  {
   "cell_type": "markdown",
   "metadata": {
    "_cell_guid": "da70122a-cbec-41b8-aa1d-d77702776a33",
    "_uuid": "72eeca4e-3896-4e95-8ead-2fc76d031def"
   },
   "source": [
    "# **Callback function**"
   ]
  },
  {
   "cell_type": "code",
   "execution_count": null,
   "metadata": {
    "_cell_guid": "8dd56ae7-16cd-47cd-bf64-03745b64dea4",
    "_uuid": "44f0a6aa-c803-4fe2-9fd9-dc6e0cf60cef",
    "execution": {
     "iopub.execute_input": "2023-07-30T12:36:38.367503Z",
     "iopub.status.busy": "2023-07-30T12:36:38.366942Z",
     "iopub.status.idle": "2023-07-30T12:36:38.374788Z",
     "shell.execute_reply": "2023-07-30T12:36:38.373963Z",
     "shell.execute_reply.started": "2023-07-30T12:36:38.367464Z"
    },
    "jupyter": {
     "outputs_hidden": false
    }
   },
   "outputs": [],
   "source": [
    "import tensorflow as tf"
   ]
  },
  {
   "cell_type": "code",
   "execution_count": null,
   "metadata": {
    "_cell_guid": "135e1d96-1960-45a1-aee3-da9aec506c7d",
    "_uuid": "4dd0da24-e90f-43f1-b86c-fbb43c4d0571",
    "execution": {
     "iopub.execute_input": "2023-07-30T12:36:38.377056Z",
     "iopub.status.busy": "2023-07-30T12:36:38.376361Z",
     "iopub.status.idle": "2023-07-30T12:36:38.387271Z",
     "shell.execute_reply": "2023-07-30T12:36:38.386369Z",
     "shell.execute_reply.started": "2023-07-30T12:36:38.377017Z"
    },
    "jupyter": {
     "outputs_hidden": false
    }
   },
   "outputs": [],
   "source": [
    "early_stopping = tf.keras.callbacks.EarlyStopping(monitor='val_loss', patience=5)"
   ]
  },
  {
   "cell_type": "code",
   "execution_count": null,
   "metadata": {
    "_cell_guid": "3b25029d-bf58-47bf-bc05-e6bcd7adfa06",
    "_uuid": "4380be1a-59e9-470b-ad56-7ec1c9ef0db7",
    "execution": {
     "iopub.execute_input": "2023-07-30T12:36:38.389385Z",
     "iopub.status.busy": "2023-07-30T12:36:38.388693Z",
     "iopub.status.idle": "2023-07-30T12:36:38.400210Z",
     "shell.execute_reply": "2023-07-30T12:36:38.399243Z",
     "shell.execute_reply.started": "2023-07-30T12:36:38.389350Z"
    },
    "jupyter": {
     "outputs_hidden": false
    }
   },
   "outputs": [],
   "source": [
    "check_point = tf.keras.callbacks.ModelCheckpoint(\n",
    "    '/kaggle/working/check_point.hdf5',\n",
    "    monitor=\"val_loss\",\n",
    "    verbose=0,\n",
    "    save_best_only=False,\n",
    "    save_weights_only=False,\n",
    "    mode=\"auto\",\n",
    "    save_freq=\"epoch\"\n",
    ")"
   ]
  },
  {
   "cell_type": "code",
   "execution_count": null,
   "metadata": {
    "_cell_guid": "3a542d78-8d48-46dc-b470-b45a008601bc",
    "_uuid": "726bf804-4bde-478e-939c-7a2b6219e0d1",
    "execution": {
     "iopub.execute_input": "2023-07-30T12:36:38.402323Z",
     "iopub.status.busy": "2023-07-30T12:36:38.401691Z",
     "iopub.status.idle": "2023-07-30T12:36:38.412657Z",
     "shell.execute_reply": "2023-07-30T12:36:38.411442Z",
     "shell.execute_reply.started": "2023-07-30T12:36:38.402279Z"
    },
    "jupyter": {
     "outputs_hidden": false
    }
   },
   "outputs": [],
   "source": [
    "def scheduler(epoch, lr):\n",
    "    # Nếu dưới 5 epoch\n",
    "    if epoch < 12:\n",
    "        # Trả về lr\n",
    "        return float(lr)\n",
    "    else:\n",
    "        # Còn không thì trả về\n",
    "        return float(lr * tf.math.exp(-0.1))"
   ]
  },
  {
   "cell_type": "code",
   "execution_count": null,
   "metadata": {
    "_cell_guid": "85cf6d7a-a4df-4de3-b373-e352f3c55821",
    "_uuid": "a0c1de1d-86d5-4184-915e-96874888b9c2",
    "execution": {
     "iopub.execute_input": "2023-07-30T12:36:38.414952Z",
     "iopub.status.busy": "2023-07-30T12:36:38.414305Z",
     "iopub.status.idle": "2023-07-30T12:36:38.424605Z",
     "shell.execute_reply": "2023-07-30T12:36:38.423356Z",
     "shell.execute_reply.started": "2023-07-30T12:36:38.414909Z"
    },
    "jupyter": {
     "outputs_hidden": false
    }
   },
   "outputs": [],
   "source": [
    "LR_Scheduler = tf.keras.callbacks.LearningRateScheduler(scheduler)"
   ]
  },
  {
   "cell_type": "markdown",
   "metadata": {
    "_cell_guid": "80b11c2a-6891-4113-b668-0abe877a0dfb",
    "_uuid": "7600bf30-dd69-49ea-9293-432e5a2f5537"
   },
   "source": [
    "# **Model**"
   ]
  },
  {
   "cell_type": "code",
   "execution_count": null,
   "metadata": {
    "_cell_guid": "83432bb7-c254-4579-bbfe-1d551f820c1b",
    "_uuid": "f3d1364b-fff5-4054-a004-f1edc03f249f",
    "execution": {
     "iopub.execute_input": "2023-07-30T12:36:38.427126Z",
     "iopub.status.busy": "2023-07-30T12:36:38.426374Z",
     "iopub.status.idle": "2023-07-30T12:36:38.436841Z",
     "shell.execute_reply": "2023-07-30T12:36:38.435329Z",
     "shell.execute_reply.started": "2023-07-30T12:36:38.427088Z"
    },
    "jupyter": {
     "outputs_hidden": false
    }
   },
   "outputs": [],
   "source": [
    "import tensorflow as tf\n",
    "import tensorflow_hub as hub\n",
    "import tensorflow_text as text"
   ]
  },
  {
   "cell_type": "code",
   "execution_count": null,
   "metadata": {
    "_cell_guid": "2daed717-2654-4538-afca-42d1c318a1a2",
    "_uuid": "84a3fbb7-0cd9-4638-ac6a-81b70affdf97",
    "execution": {
     "iopub.execute_input": "2023-07-30T12:36:38.439175Z",
     "iopub.status.busy": "2023-07-30T12:36:38.438520Z",
     "iopub.status.idle": "2023-07-30T12:36:53.388695Z",
     "shell.execute_reply": "2023-07-30T12:36:53.387411Z",
     "shell.execute_reply.started": "2023-07-30T12:36:38.439127Z"
    },
    "jupyter": {
     "outputs_hidden": false
    }
   },
   "outputs": [],
   "source": [
    "bert_preprocess = hub.KerasLayer(\"https://tfhub.dev/tensorflow/bert_en_uncased_preprocess/3\")\n",
    "bert_encoder = hub.KerasLayer(\"https://tfhub.dev/tensorflow/bert_en_uncased_L-12_H-768_A-12/4\")"
   ]
  },
  {
   "cell_type": "code",
   "execution_count": null,
   "metadata": {
    "_cell_guid": "39ff223e-2b95-49ae-ac0a-e8b69c3601eb",
    "_uuid": "fe3ac315-8512-48b5-a662-cd3ff80c3fcd",
    "execution": {
     "iopub.execute_input": "2023-07-30T12:36:53.390785Z",
     "iopub.status.busy": "2023-07-30T12:36:53.390305Z",
     "iopub.status.idle": "2023-07-30T12:36:53.402785Z",
     "shell.execute_reply": "2023-07-30T12:36:53.401735Z",
     "shell.execute_reply.started": "2023-07-30T12:36:53.390747Z"
    },
    "jupyter": {
     "outputs_hidden": false
    }
   },
   "outputs": [],
   "source": [
    "def build_model():\n",
    "    bert_input = tf.keras.layers.Input(shape = (), dtype = tf.string, name='text_bert')\n",
    "\n",
    "#     # Bert Embedding \n",
    "    preprocessed_text = bert_preprocess(bert_input)\n",
    "    outputs = bert_encoder(preprocessed_text)\n",
    "    pooled_output = tf.keras.layers.concatenate(\n",
    "        tuple([outputs['encoder_outputs'][i] for i in range(-4, 0)]), \n",
    "        name = 'last_4_hidden_states',\n",
    "        axis = -1\n",
    "    )[:, 0, :]\n",
    "    pooled_output = tf.keras.layers.LayerNormalization()(pooled_output)\n",
    "    \n",
    "    print(pooled_output.shape)\n",
    "    Dense = tf.keras.layers.Dropout(0.5)(pooled_output)\n",
    "    Dense = tf.keras.layers.Dense(768, activation='relu')(Dense)\n",
    "    Dense = tf.keras.layers.Dropout(0.5)(Dense)\n",
    "    classifer = tf.keras.layers.Dense(3,activation='softmax', name=\"output\")(Dense)\n",
    "    model = tf.keras.models.Model(inputs = [bert_input], outputs = [classifer])\n",
    "    return model"
   ]
  },
  {
   "cell_type": "code",
   "execution_count": null,
   "metadata": {
    "_cell_guid": "a53babaf-7c9b-4090-a400-4411c9eb0efe",
    "_uuid": "d71832af-b230-4163-8450-4f1565abfc83",
    "execution": {
     "iopub.execute_input": "2023-07-30T12:36:53.405719Z",
     "iopub.status.busy": "2023-07-30T12:36:53.404629Z",
     "iopub.status.idle": "2023-07-30T12:36:53.746366Z",
     "shell.execute_reply": "2023-07-30T12:36:53.745373Z",
     "shell.execute_reply.started": "2023-07-30T12:36:53.405682Z"
    },
    "jupyter": {
     "outputs_hidden": false
    }
   },
   "outputs": [],
   "source": [
    "model = build_model()"
   ]
  },
  {
   "cell_type": "code",
   "execution_count": null,
   "metadata": {
    "_cell_guid": "5a2d50f7-2a02-456a-94e6-66acc2b3fa00",
    "_uuid": "ca660b05-8f8d-4862-adcb-2dd6c342bc39",
    "execution": {
     "iopub.execute_input": "2023-07-30T12:36:53.748461Z",
     "iopub.status.busy": "2023-07-30T12:36:53.747780Z",
     "iopub.status.idle": "2023-07-30T12:36:53.838186Z",
     "shell.execute_reply": "2023-07-30T12:36:53.837201Z",
     "shell.execute_reply.started": "2023-07-30T12:36:53.748407Z"
    },
    "jupyter": {
     "outputs_hidden": false
    }
   },
   "outputs": [],
   "source": [
    "model.summary()\n",
    "\n",
    "model.compile(optimizer=tf.keras.optimizers.Adam(learning_rate=1e-5),\n",
    "              loss='categorical_crossentropy',\n",
    "              metrics=['accuracy'])"
   ]
  },
  {
   "cell_type": "code",
   "execution_count": null,
   "metadata": {
    "_cell_guid": "2015025b-d05f-4165-9f4c-e4480411aada",
    "_uuid": "7c3c44e3-dcd0-48f1-8548-bb079b2f06a7",
    "execution": {
     "iopub.execute_input": "2023-07-30T12:36:53.840466Z",
     "iopub.status.busy": "2023-07-30T12:36:53.839784Z",
     "iopub.status.idle": "2023-07-30T12:36:53.846624Z",
     "shell.execute_reply": "2023-07-30T12:36:53.845486Z",
     "shell.execute_reply.started": "2023-07-30T12:36:53.840428Z"
    },
    "jupyter": {
     "outputs_hidden": false
    }
   },
   "outputs": [],
   "source": [
    "s = 0\n",
    "for i in X_train:\n",
    "    print(i)\n",
    "    s += 1\n",
    "    if s == 5: break"
   ]
  },
  {
   "cell_type": "code",
   "execution_count": null,
   "metadata": {
    "_cell_guid": "130a7c14-2dfa-4815-ad07-7489438e7662",
    "_uuid": "c6d14e75-7476-47b6-9616-ef75f5785a3c",
    "execution": {
     "iopub.execute_input": "2023-07-30T12:36:53.848805Z",
     "iopub.status.busy": "2023-07-30T12:36:53.848172Z",
     "iopub.status.idle": "2023-07-30T12:36:53.861078Z",
     "shell.execute_reply": "2023-07-30T12:36:53.859970Z",
     "shell.execute_reply.started": "2023-07-30T12:36:53.848770Z"
    },
    "jupyter": {
     "outputs_hidden": false
    }
   },
   "outputs": [],
   "source": [
    "# X_train = pd.DataFrame(X_train)\n",
    "len(X_train)"
   ]
  },
  {
   "cell_type": "code",
   "execution_count": null,
   "metadata": {
    "_cell_guid": "a0b83bee-0b37-43dc-b8da-00c4eee9d1af",
    "_uuid": "e14b95e0-9931-4dc5-b6b5-08a1f7421f82",
    "execution": {
     "iopub.execute_input": "2023-07-30T12:36:53.863452Z",
     "iopub.status.busy": "2023-07-30T12:36:53.862790Z",
     "iopub.status.idle": "2023-07-30T12:36:54.019749Z",
     "shell.execute_reply": "2023-07-30T12:36:54.018688Z",
     "shell.execute_reply.started": "2023-07-30T12:36:53.863418Z"
    },
    "jupyter": {
     "outputs_hidden": false
    }
   },
   "outputs": [],
   "source": [
    "X_train = np.array([str(i) for i in X_train])"
   ]
  },
  {
   "cell_type": "code",
   "execution_count": null,
   "metadata": {
    "_cell_guid": "548f2682-42d7-4d7b-84e3-677ba37a8a49",
    "_uuid": "6395cc26-4a43-4520-95f8-effad8033817",
    "execution": {
     "iopub.execute_input": "2023-07-30T12:36:54.021945Z",
     "iopub.status.busy": "2023-07-30T12:36:54.021560Z",
     "iopub.status.idle": "2023-07-30T12:36:54.042961Z",
     "shell.execute_reply": "2023-07-30T12:36:54.041839Z",
     "shell.execute_reply.started": "2023-07-30T12:36:54.021909Z"
    },
    "jupyter": {
     "outputs_hidden": false
    }
   },
   "outputs": [],
   "source": [
    "X_test = np.array([str(i) for i in X_test])"
   ]
  },
  {
   "cell_type": "code",
   "execution_count": null,
   "metadata": {
    "_cell_guid": "aebbeac2-60c2-499d-bc76-ccb76e3c6725",
    "_uuid": "ab7f2360-fd3a-4d94-b93b-c9b426fe0822",
    "execution": {
     "iopub.execute_input": "2023-07-30T12:36:54.045046Z",
     "iopub.status.busy": "2023-07-30T12:36:54.044408Z",
     "iopub.status.idle": "2023-07-30T12:36:54.052889Z",
     "shell.execute_reply": "2023-07-30T12:36:54.051859Z",
     "shell.execute_reply.started": "2023-07-30T12:36:54.045009Z"
    },
    "jupyter": {
     "outputs_hidden": false
    }
   },
   "outputs": [],
   "source": [
    "len(X_train)"
   ]
  },
  {
   "cell_type": "code",
   "execution_count": null,
   "metadata": {
    "_cell_guid": "24c55fc8-cfeb-41ed-a1ec-002e3975e463",
    "_uuid": "6306f7dd-443e-4515-9af0-9dd16dde0963",
    "execution": {
     "iopub.execute_input": "2023-07-30T12:36:54.055396Z",
     "iopub.status.busy": "2023-07-30T12:36:54.054342Z",
     "iopub.status.idle": "2023-07-30T13:11:05.102757Z",
     "shell.execute_reply": "2023-07-30T13:11:05.100907Z",
     "shell.execute_reply.started": "2023-07-30T12:36:54.055361Z"
    },
    "jupyter": {
     "outputs_hidden": false
    }
   },
   "outputs": [],
   "source": [
    "h = model.fit(X_train, y_train, \n",
    "              epochs=100, \n",
    "              validation_data=(X_test, y_test),\n",
    "              callbacks = [early_stopping,check_point])"
   ]
  },
  {
   "cell_type": "code",
   "execution_count": null,
   "metadata": {
    "_cell_guid": "6c956b6b-1cb7-417a-bac1-e8591cd6c40e",
    "_uuid": "7c0a36a0-3914-4766-a781-8d2d097763f7",
    "execution": {
     "iopub.execute_input": "2023-07-30T13:11:05.106217Z",
     "iopub.status.busy": "2023-07-30T13:11:05.104906Z",
     "iopub.status.idle": "2023-07-30T13:11:05.113167Z",
     "shell.execute_reply": "2023-07-30T13:11:05.111769Z",
     "shell.execute_reply.started": "2023-07-30T13:11:05.106174Z"
    },
    "jupyter": {
     "outputs_hidden": false
    }
   },
   "outputs": [],
   "source": [
    "x = 0.213\n",
    "print(type(x))\n",
    "x = str(x)\n",
    "print(type(x))"
   ]
  },
  {
   "cell_type": "markdown",
   "metadata": {
    "_cell_guid": "db488920-fbda-4d33-8329-eb61aeb1dca2",
    "_uuid": "a1cad0d9-5f72-4b42-9b20-eebd348f6aa0"
   },
   "source": [
    "# **F1 Score**"
   ]
  },
  {
   "cell_type": "code",
   "execution_count": null,
   "metadata": {
    "_cell_guid": "c74ac0cb-74aa-4cad-8f84-067560591c3c",
    "_uuid": "d800ec41-1b5c-443c-8ab0-f335432a219d",
    "execution": {
     "iopub.execute_input": "2023-07-30T13:11:05.115888Z",
     "iopub.status.busy": "2023-07-30T13:11:05.114761Z",
     "iopub.status.idle": "2023-07-30T13:11:05.127881Z",
     "shell.execute_reply": "2023-07-30T13:11:05.126530Z",
     "shell.execute_reply.started": "2023-07-30T13:11:05.115850Z"
    },
    "jupyter": {
     "outputs_hidden": false
    }
   },
   "outputs": [],
   "source": [
    "from sklearn.metrics import classification_report"
   ]
  },
  {
   "cell_type": "code",
   "execution_count": null,
   "metadata": {
    "_cell_guid": "ec044418-2738-440b-9c4f-526af2df0b4f",
    "_uuid": "72e98f19-b7c5-4e10-87d9-55925379e770",
    "execution": {
     "iopub.execute_input": "2023-07-30T13:11:05.129634Z",
     "iopub.status.busy": "2023-07-30T13:11:05.129146Z",
     "iopub.status.idle": "2023-07-30T13:11:25.540941Z",
     "shell.execute_reply": "2023-07-30T13:11:25.539972Z",
     "shell.execute_reply.started": "2023-07-30T13:11:05.129598Z"
    },
    "jupyter": {
     "outputs_hidden": false
    }
   },
   "outputs": [],
   "source": [
    "import matplotlib.pyplot as plt\n",
    "pd.DataFrame(h.history).plot(figsize = (14,5))\n",
    "plt.grid(True)\n",
    "plt.gca().set_ylim(0)"
   ]
  },
  {
   "cell_type": "code",
   "execution_count": null,
   "metadata": {
    "_cell_guid": "3cd3fb08-d836-4765-aa11-b604ba75aa92",
    "_uuid": "65ae3a72-8204-4441-9001-7686cec6f0aa",
    "execution": {
     "iopub.execute_input": "2023-07-30T13:11:25.544263Z",
     "iopub.status.busy": "2023-07-30T13:11:25.542332Z",
     "iopub.status.idle": "2023-07-30T13:11:25.551420Z",
     "shell.execute_reply": "2023-07-30T13:11:25.550052Z",
     "shell.execute_reply.started": "2023-07-30T13:11:25.544226Z"
    },
    "jupyter": {
     "outputs_hidden": false
    }
   },
   "outputs": [],
   "source": [
    "X_test[0], y_test[0]"
   ]
  },
  {
   "cell_type": "code",
   "execution_count": null,
   "metadata": {
    "_cell_guid": "325f78e5-0246-4a8a-9a14-79a85b459c8b",
    "_uuid": "bff2ad85-3f7c-452e-a046-316f7d9033f5",
    "execution": {
     "iopub.execute_input": "2023-07-30T13:11:25.554114Z",
     "iopub.status.busy": "2023-07-30T13:11:25.553022Z",
     "iopub.status.idle": "2023-07-30T13:12:47.542694Z",
     "shell.execute_reply": "2023-07-30T13:12:47.541631Z",
     "shell.execute_reply.started": "2023-07-30T13:11:25.554069Z"
    },
    "jupyter": {
     "outputs_hidden": false
    }
   },
   "outputs": [],
   "source": [
    "model.evaluate(X_test, y_test)"
   ]
  },
  {
   "cell_type": "code",
   "execution_count": null,
   "metadata": {
    "_cell_guid": "207e7d81-862c-46c2-acf8-77b9f2aefc45",
    "_uuid": "1fa894f6-06c7-4093-b6a7-5161b7b55023",
    "execution": {
     "iopub.execute_input": "2023-07-30T13:12:47.544754Z",
     "iopub.status.busy": "2023-07-30T13:12:47.544374Z",
     "iopub.status.idle": "2023-07-30T13:14:10.318782Z",
     "shell.execute_reply": "2023-07-30T13:14:10.317672Z",
     "shell.execute_reply.started": "2023-07-30T13:12:47.544718Z"
    },
    "jupyter": {
     "outputs_hidden": false
    }
   },
   "outputs": [],
   "source": [
    "y_pred = model.predict(X_test)\n",
    "y_pred[0]"
   ]
  },
  {
   "cell_type": "code",
   "execution_count": null,
   "metadata": {
    "_cell_guid": "f13e41f9-1b03-4a6c-ad9b-dbde520b6dee",
    "_uuid": "007a2dff-1ba2-489b-a9d2-853db2da1a7f",
    "execution": {
     "iopub.execute_input": "2023-07-30T13:14:10.320981Z",
     "iopub.status.busy": "2023-07-30T13:14:10.320580Z",
     "iopub.status.idle": "2023-07-30T13:14:10.326110Z",
     "shell.execute_reply": "2023-07-30T13:14:10.325033Z",
     "shell.execute_reply.started": "2023-07-30T13:14:10.320942Z"
    },
    "jupyter": {
     "outputs_hidden": false
    }
   },
   "outputs": [],
   "source": [
    "y_pred = np.round(y_pred)"
   ]
  },
  {
   "cell_type": "code",
   "execution_count": null,
   "metadata": {
    "_cell_guid": "ac7a350e-cf12-412f-bf27-d8dc6856d216",
    "_uuid": "1264693b-9c29-4a37-b7e1-7db8ee20006c",
    "execution": {
     "iopub.execute_input": "2023-07-30T13:14:10.328510Z",
     "iopub.status.busy": "2023-07-30T13:14:10.327796Z",
     "iopub.status.idle": "2023-07-30T13:14:10.360716Z",
     "shell.execute_reply": "2023-07-30T13:14:10.359661Z",
     "shell.execute_reply.started": "2023-07-30T13:14:10.328475Z"
    },
    "jupyter": {
     "outputs_hidden": false
    }
   },
   "outputs": [],
   "source": [
    "print(classification_report(y_test,y_pred))"
   ]
  },
  {
   "cell_type": "code",
   "execution_count": null,
   "metadata": {},
   "outputs": [],
   "source": []
  }
 ],
 "metadata": {
  "kernelspec": {
   "display_name": "Python 3 (ipykernel)",
   "language": "python",
   "name": "python3"
  },
  "language_info": {
   "codemirror_mode": {
    "name": "ipython",
    "version": 3
   },
   "file_extension": ".py",
   "mimetype": "text/x-python",
   "name": "python",
   "nbconvert_exporter": "python",
   "pygments_lexer": "ipython3",
   "version": "3.9.12"
  }
 },
 "nbformat": 4,
 "nbformat_minor": 4
}
